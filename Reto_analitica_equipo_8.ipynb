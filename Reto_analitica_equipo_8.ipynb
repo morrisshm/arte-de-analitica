{
 "cells": [
  {
   "cell_type": "code",
   "execution_count": 26,
   "metadata": {},
   "outputs": [
    {
     "data": {
      "text/html": [
       "<div>\n",
       "<style scoped>\n",
       "    .dataframe tbody tr th:only-of-type {\n",
       "        vertical-align: middle;\n",
       "    }\n",
       "\n",
       "    .dataframe tbody tr th {\n",
       "        vertical-align: top;\n",
       "    }\n",
       "\n",
       "    .dataframe thead th {\n",
       "        text-align: right;\n",
       "    }\n",
       "</style>\n",
       "<table border=\"1\" class=\"dataframe\">\n",
       "  <thead>\n",
       "    <tr style=\"text-align: right;\">\n",
       "      <th></th>\n",
       "      <th>user_name</th>\n",
       "      <th>user_location</th>\n",
       "      <th>user_description</th>\n",
       "      <th>user_created</th>\n",
       "      <th>user_followers</th>\n",
       "      <th>user_friends</th>\n",
       "      <th>user_favourites</th>\n",
       "      <th>user_verified</th>\n",
       "      <th>date</th>\n",
       "      <th>text</th>\n",
       "      <th>hashtags</th>\n",
       "      <th>source</th>\n",
       "      <th>is_retweet</th>\n",
       "    </tr>\n",
       "  </thead>\n",
       "  <tbody>\n",
       "    <tr>\n",
       "      <th>0</th>\n",
       "      <td>ᏉᎥ☻լꂅϮ</td>\n",
       "      <td>astroworld</td>\n",
       "      <td>wednesday addams as a disney princess keepin i...</td>\n",
       "      <td>2017-05-26 05:46:42</td>\n",
       "      <td>624</td>\n",
       "      <td>950</td>\n",
       "      <td>18775</td>\n",
       "      <td>False</td>\n",
       "      <td>2020-07-25 12:27:21</td>\n",
       "      <td>If I smelled the scent of hand sanitizers toda...</td>\n",
       "      <td>NaN</td>\n",
       "      <td>Twitter for iPhone</td>\n",
       "      <td>False</td>\n",
       "    </tr>\n",
       "    <tr>\n",
       "      <th>1</th>\n",
       "      <td>Tom Basile 🇺🇸</td>\n",
       "      <td>New York, NY</td>\n",
       "      <td>Husband, Father, Columnist &amp; Commentator. Auth...</td>\n",
       "      <td>2009-04-16 20:06:23</td>\n",
       "      <td>2253</td>\n",
       "      <td>1677</td>\n",
       "      <td>24</td>\n",
       "      <td>True</td>\n",
       "      <td>2020-07-25 12:27:17</td>\n",
       "      <td>Hey @Yankees @YankeesPR and @MLB - wouldn't it...</td>\n",
       "      <td>NaN</td>\n",
       "      <td>Twitter for Android</td>\n",
       "      <td>False</td>\n",
       "    </tr>\n",
       "    <tr>\n",
       "      <th>2</th>\n",
       "      <td>Time4fisticuffs</td>\n",
       "      <td>Pewee Valley, KY</td>\n",
       "      <td>#Christian #Catholic #Conservative #Reagan #Re...</td>\n",
       "      <td>2009-02-28 18:57:41</td>\n",
       "      <td>9275</td>\n",
       "      <td>9525</td>\n",
       "      <td>7254</td>\n",
       "      <td>False</td>\n",
       "      <td>2020-07-25 12:27:14</td>\n",
       "      <td>@diane3443 @wdunlap @realDonaldTrump Trump nev...</td>\n",
       "      <td>['COVID19']</td>\n",
       "      <td>Twitter for Android</td>\n",
       "      <td>False</td>\n",
       "    </tr>\n",
       "    <tr>\n",
       "      <th>3</th>\n",
       "      <td>ethel mertz</td>\n",
       "      <td>Stuck in the Middle</td>\n",
       "      <td>#Browns #Indians #ClevelandProud #[]_[] #Cavs ...</td>\n",
       "      <td>2019-03-07 01:45:06</td>\n",
       "      <td>197</td>\n",
       "      <td>987</td>\n",
       "      <td>1488</td>\n",
       "      <td>False</td>\n",
       "      <td>2020-07-25 12:27:10</td>\n",
       "      <td>@brookbanktv The one gift #COVID19 has give me...</td>\n",
       "      <td>['COVID19']</td>\n",
       "      <td>Twitter for iPhone</td>\n",
       "      <td>False</td>\n",
       "    </tr>\n",
       "    <tr>\n",
       "      <th>4</th>\n",
       "      <td>DIPR-J&amp;K</td>\n",
       "      <td>Jammu and Kashmir</td>\n",
       "      <td>🖊️Official Twitter handle of Department of Inf...</td>\n",
       "      <td>2017-02-12 06:45:15</td>\n",
       "      <td>101009</td>\n",
       "      <td>168</td>\n",
       "      <td>101</td>\n",
       "      <td>False</td>\n",
       "      <td>2020-07-25 12:27:08</td>\n",
       "      <td>25 July : Media Bulletin on Novel #CoronaVirus...</td>\n",
       "      <td>['CoronaVirusUpdates', 'COVID19']</td>\n",
       "      <td>Twitter for Android</td>\n",
       "      <td>False</td>\n",
       "    </tr>\n",
       "  </tbody>\n",
       "</table>\n",
       "</div>"
      ],
      "text/plain": [
       "         user_name         user_location  \\\n",
       "0           ᏉᎥ☻լꂅϮ            astroworld   \n",
       "1    Tom Basile 🇺🇸          New York, NY   \n",
       "2  Time4fisticuffs      Pewee Valley, KY   \n",
       "3      ethel mertz  Stuck in the Middle    \n",
       "4         DIPR-J&K     Jammu and Kashmir   \n",
       "\n",
       "                                    user_description         user_created  \\\n",
       "0  wednesday addams as a disney princess keepin i...  2017-05-26 05:46:42   \n",
       "1  Husband, Father, Columnist & Commentator. Auth...  2009-04-16 20:06:23   \n",
       "2  #Christian #Catholic #Conservative #Reagan #Re...  2009-02-28 18:57:41   \n",
       "3  #Browns #Indians #ClevelandProud #[]_[] #Cavs ...  2019-03-07 01:45:06   \n",
       "4  🖊️Official Twitter handle of Department of Inf...  2017-02-12 06:45:15   \n",
       "\n",
       "   user_followers  user_friends  user_favourites  user_verified  \\\n",
       "0             624           950            18775          False   \n",
       "1            2253          1677               24           True   \n",
       "2            9275          9525             7254          False   \n",
       "3             197           987             1488          False   \n",
       "4          101009           168              101          False   \n",
       "\n",
       "                  date                                               text  \\\n",
       "0  2020-07-25 12:27:21  If I smelled the scent of hand sanitizers toda...   \n",
       "1  2020-07-25 12:27:17  Hey @Yankees @YankeesPR and @MLB - wouldn't it...   \n",
       "2  2020-07-25 12:27:14  @diane3443 @wdunlap @realDonaldTrump Trump nev...   \n",
       "3  2020-07-25 12:27:10  @brookbanktv The one gift #COVID19 has give me...   \n",
       "4  2020-07-25 12:27:08  25 July : Media Bulletin on Novel #CoronaVirus...   \n",
       "\n",
       "                            hashtags               source  is_retweet  \n",
       "0                                NaN   Twitter for iPhone       False  \n",
       "1                                NaN  Twitter for Android       False  \n",
       "2                        ['COVID19']  Twitter for Android       False  \n",
       "3                        ['COVID19']   Twitter for iPhone       False  \n",
       "4  ['CoronaVirusUpdates', 'COVID19']  Twitter for Android       False  "
      ]
     },
     "execution_count": 26,
     "metadata": {},
     "output_type": "execute_result"
    }
   ],
   "source": [
    "import pandas as pd\n",
    "import numpy as np;np.random.seed(0)\n",
    "import matplotlib\n",
    "import matplotlib.pyplot as plt \n",
    "import seaborn as sns\n",
    "import re\n",
    "\n",
    "df = pd.read_csv('covid19_tweets.csv')\n",
    "df.head()"
   ]
  },
  {
   "cell_type": "code",
   "execution_count": 2,
   "metadata": {},
   "outputs": [],
   "source": [
    "def clean_1(s):\n",
    "    s = s.replace('ðŸž', \"\")\n",
    "    s = s.replace('ðŸ¤·â€â™', \"\")\n",
    "    s = s.replace(\"ðŸ”´\", \"\")\n",
    "    s = s.replace(\"€™\", \"\")\n",
    "    s = s.replace(\"ƒ¼\", \"\")\n",
    "    s = s.replace(\"â€˜\", \"\")\n",
    "    s = s.replace(\"â€™\", \"\")\n",
    "    s = s.replace(\"ðŸ˜˜\", \"\")\n",
    "    s = s.replace(\"ðŸ”Š\", \"\")\n",
    "    s = s.replace(\"&amp;\", \"&\")\n",
    "    s = s.replace(\"ðŸ§©\", \"\")\n",
    "    s = s.replace(\":\", \"\")\n",
    "    s = s.replace(\";\", \"\")\n",
    "    s = s.replace(\"'\", \"\")\n",
    "    s = s.replace(\"|\", \"\")\n",
    "    s = s.replace(\"//\", \"\")\n",
    "    s = s.replace('📍',\"\")\n",
    "    s = s.replace('🏫',\"\")\n",
    "    s = s.replace('💯',\"\")\n",
    "    s = s.replace('🧵',\"\")\n",
    "    s = s.replace('🔊',\"\")\n",
    "    s = s.replace(\"●\", \"\")\n",
    "    s = s.replace(\"❤️\", \"\")\n",
    "    s = s.replace(\"🙃\", \"\")\n",
    "    s = s.replace(\"🤔\", \"\")\n",
    "    s = s.replace(\"😉\", \"\")\n",
    "    s = s.replace(\"⬇️\", \"\")\n",
    "    s = s.replace(\"🔴\", \"\")\n",
    "    s = s.replace(\"🤷‍\", \"\")\n",
    "    s = s.replace(\"🐞\", \"\")\n",
    "    s = s.replace(\"🚨\", \"\")\n",
    "    s = s.replace(\"🙌\", \"\")\n",
    "    s = s.replace(\"👑\", \"\")\n",
    "    s = s.replace(\"🔥\", \"\")\n",
    "    s = s.replace(\"👇\", \"\")\n",
    "    return str(s)\n",
    "df[\"text_clean\"] = ''\n",
    "for i, row in df.iterrows():\n",
    "    df.at[i, \"text_clean\"] = clean_1(row.text)\n"
   ]
  },
  {
   "cell_type": "code",
   "execution_count": 3,
   "metadata": {},
   "outputs": [],
   "source": [
    "to_drop = ['user_created','user_description','user_verified','text','is_retweet']\n",
    "\n",
    "\n",
    "df.drop(to_drop, inplace=True, axis=1)"
   ]
  },
  {
   "cell_type": "code",
   "execution_count": 4,
   "metadata": {},
   "outputs": [
    {
     "data": {
      "text/html": [
       "<div>\n",
       "<style scoped>\n",
       "    .dataframe tbody tr th:only-of-type {\n",
       "        vertical-align: middle;\n",
       "    }\n",
       "\n",
       "    .dataframe tbody tr th {\n",
       "        vertical-align: top;\n",
       "    }\n",
       "\n",
       "    .dataframe thead th {\n",
       "        text-align: right;\n",
       "    }\n",
       "</style>\n",
       "<table border=\"1\" class=\"dataframe\">\n",
       "  <thead>\n",
       "    <tr style=\"text-align: right;\">\n",
       "      <th></th>\n",
       "      <th>user_name</th>\n",
       "      <th>user_location</th>\n",
       "      <th>user_followers</th>\n",
       "      <th>user_friends</th>\n",
       "      <th>user_favourites</th>\n",
       "      <th>date</th>\n",
       "      <th>hashtags</th>\n",
       "      <th>source</th>\n",
       "      <th>text_clean</th>\n",
       "    </tr>\n",
       "  </thead>\n",
       "  <tbody>\n",
       "    <tr>\n",
       "      <th>0</th>\n",
       "      <td>ᏉᎥ☻լꂅϮ</td>\n",
       "      <td>astroworld</td>\n",
       "      <td>624</td>\n",
       "      <td>950</td>\n",
       "      <td>18775</td>\n",
       "      <td>2020-07-25 12:27:21</td>\n",
       "      <td>NaN</td>\n",
       "      <td>Twitter for iPhone</td>\n",
       "      <td>If I smelled the scent of hand sanitizers toda...</td>\n",
       "    </tr>\n",
       "    <tr>\n",
       "      <th>1</th>\n",
       "      <td>Tom Basile 🇺🇸</td>\n",
       "      <td>New York, NY</td>\n",
       "      <td>2253</td>\n",
       "      <td>1677</td>\n",
       "      <td>24</td>\n",
       "      <td>2020-07-25 12:27:17</td>\n",
       "      <td>NaN</td>\n",
       "      <td>Twitter for Android</td>\n",
       "      <td>Hey @Yankees @YankeesPR and @MLB - wouldnt it ...</td>\n",
       "    </tr>\n",
       "    <tr>\n",
       "      <th>2</th>\n",
       "      <td>Time4fisticuffs</td>\n",
       "      <td>Pewee Valley, KY</td>\n",
       "      <td>9275</td>\n",
       "      <td>9525</td>\n",
       "      <td>7254</td>\n",
       "      <td>2020-07-25 12:27:14</td>\n",
       "      <td>['COVID19']</td>\n",
       "      <td>Twitter for Android</td>\n",
       "      <td>@diane3443 @wdunlap @realDonaldTrump Trump nev...</td>\n",
       "    </tr>\n",
       "    <tr>\n",
       "      <th>3</th>\n",
       "      <td>ethel mertz</td>\n",
       "      <td>Stuck in the Middle</td>\n",
       "      <td>197</td>\n",
       "      <td>987</td>\n",
       "      <td>1488</td>\n",
       "      <td>2020-07-25 12:27:10</td>\n",
       "      <td>['COVID19']</td>\n",
       "      <td>Twitter for iPhone</td>\n",
       "      <td>@brookbanktv The one gift #COVID19 has give me...</td>\n",
       "    </tr>\n",
       "    <tr>\n",
       "      <th>4</th>\n",
       "      <td>DIPR-J&amp;K</td>\n",
       "      <td>Jammu and Kashmir</td>\n",
       "      <td>101009</td>\n",
       "      <td>168</td>\n",
       "      <td>101</td>\n",
       "      <td>2020-07-25 12:27:08</td>\n",
       "      <td>['CoronaVirusUpdates', 'COVID19']</td>\n",
       "      <td>Twitter for Android</td>\n",
       "      <td>25 July  Media Bulletin on Novel #CoronaVirusU...</td>\n",
       "    </tr>\n",
       "  </tbody>\n",
       "</table>\n",
       "</div>"
      ],
      "text/plain": [
       "         user_name         user_location  user_followers  user_friends  \\\n",
       "0           ᏉᎥ☻լꂅϮ            astroworld             624           950   \n",
       "1    Tom Basile 🇺🇸          New York, NY            2253          1677   \n",
       "2  Time4fisticuffs      Pewee Valley, KY            9275          9525   \n",
       "3      ethel mertz  Stuck in the Middle              197           987   \n",
       "4         DIPR-J&K     Jammu and Kashmir          101009           168   \n",
       "\n",
       "   user_favourites                 date                           hashtags  \\\n",
       "0            18775  2020-07-25 12:27:21                                NaN   \n",
       "1               24  2020-07-25 12:27:17                                NaN   \n",
       "2             7254  2020-07-25 12:27:14                        ['COVID19']   \n",
       "3             1488  2020-07-25 12:27:10                        ['COVID19']   \n",
       "4              101  2020-07-25 12:27:08  ['CoronaVirusUpdates', 'COVID19']   \n",
       "\n",
       "                source                                         text_clean  \n",
       "0   Twitter for iPhone  If I smelled the scent of hand sanitizers toda...  \n",
       "1  Twitter for Android  Hey @Yankees @YankeesPR and @MLB - wouldnt it ...  \n",
       "2  Twitter for Android  @diane3443 @wdunlap @realDonaldTrump Trump nev...  \n",
       "3   Twitter for iPhone  @brookbanktv The one gift #COVID19 has give me...  \n",
       "4  Twitter for Android  25 July  Media Bulletin on Novel #CoronaVirusU...  "
      ]
     },
     "execution_count": 4,
     "metadata": {},
     "output_type": "execute_result"
    }
   ],
   "source": [
    "df.head()"
   ]
  },
  {
   "cell_type": "code",
   "execution_count": 5,
   "metadata": {},
   "outputs": [
    {
     "data": {
      "text/html": [
       "<div>\n",
       "<style scoped>\n",
       "    .dataframe tbody tr th:only-of-type {\n",
       "        vertical-align: middle;\n",
       "    }\n",
       "\n",
       "    .dataframe tbody tr th {\n",
       "        vertical-align: top;\n",
       "    }\n",
       "\n",
       "    .dataframe thead th {\n",
       "        text-align: right;\n",
       "    }\n",
       "</style>\n",
       "<table border=\"1\" class=\"dataframe\">\n",
       "  <thead>\n",
       "    <tr style=\"text-align: right;\">\n",
       "      <th></th>\n",
       "      <th>user_followers</th>\n",
       "      <th>user_friends</th>\n",
       "      <th>user_favourites</th>\n",
       "    </tr>\n",
       "  </thead>\n",
       "  <tbody>\n",
       "    <tr>\n",
       "      <th>count</th>\n",
       "      <td>7.443600e+04</td>\n",
       "      <td>74436.000000</td>\n",
       "      <td>7.443600e+04</td>\n",
       "    </tr>\n",
       "    <tr>\n",
       "      <th>mean</th>\n",
       "      <td>1.059513e+05</td>\n",
       "      <td>2154.721170</td>\n",
       "      <td>1.529747e+04</td>\n",
       "    </tr>\n",
       "    <tr>\n",
       "      <th>std</th>\n",
       "      <td>8.222900e+05</td>\n",
       "      <td>9365.587474</td>\n",
       "      <td>4.668971e+04</td>\n",
       "    </tr>\n",
       "    <tr>\n",
       "      <th>min</th>\n",
       "      <td>0.000000e+00</td>\n",
       "      <td>0.000000</td>\n",
       "      <td>0.000000e+00</td>\n",
       "    </tr>\n",
       "    <tr>\n",
       "      <th>25%</th>\n",
       "      <td>1.660000e+02</td>\n",
       "      <td>153.000000</td>\n",
       "      <td>2.200000e+02</td>\n",
       "    </tr>\n",
       "    <tr>\n",
       "      <th>50%</th>\n",
       "      <td>9.600000e+02</td>\n",
       "      <td>552.000000</td>\n",
       "      <td>1.927000e+03</td>\n",
       "    </tr>\n",
       "    <tr>\n",
       "      <th>75%</th>\n",
       "      <td>5.148000e+03</td>\n",
       "      <td>1780.250000</td>\n",
       "      <td>1.014800e+04</td>\n",
       "    </tr>\n",
       "    <tr>\n",
       "      <th>max</th>\n",
       "      <td>1.389284e+07</td>\n",
       "      <td>497363.000000</td>\n",
       "      <td>2.047197e+06</td>\n",
       "    </tr>\n",
       "  </tbody>\n",
       "</table>\n",
       "</div>"
      ],
      "text/plain": [
       "       user_followers   user_friends  user_favourites\n",
       "count    7.443600e+04   74436.000000     7.443600e+04\n",
       "mean     1.059513e+05    2154.721170     1.529747e+04\n",
       "std      8.222900e+05    9365.587474     4.668971e+04\n",
       "min      0.000000e+00       0.000000     0.000000e+00\n",
       "25%      1.660000e+02     153.000000     2.200000e+02\n",
       "50%      9.600000e+02     552.000000     1.927000e+03\n",
       "75%      5.148000e+03    1780.250000     1.014800e+04\n",
       "max      1.389284e+07  497363.000000     2.047197e+06"
      ]
     },
     "execution_count": 5,
     "metadata": {},
     "output_type": "execute_result"
    }
   ],
   "source": [
    "df.describe()"
   ]
  },
  {
   "cell_type": "code",
   "execution_count": 6,
   "metadata": {},
   "outputs": [
    {
     "data": {
      "text/html": [
       "<div>\n",
       "<style scoped>\n",
       "    .dataframe tbody tr th:only-of-type {\n",
       "        vertical-align: middle;\n",
       "    }\n",
       "\n",
       "    .dataframe tbody tr th {\n",
       "        vertical-align: top;\n",
       "    }\n",
       "\n",
       "    .dataframe thead th {\n",
       "        text-align: right;\n",
       "    }\n",
       "</style>\n",
       "<table border=\"1\" class=\"dataframe\">\n",
       "  <thead>\n",
       "    <tr style=\"text-align: right;\">\n",
       "      <th></th>\n",
       "      <th>count</th>\n",
       "      <th>unique</th>\n",
       "      <th>top</th>\n",
       "      <th>freq</th>\n",
       "    </tr>\n",
       "  </thead>\n",
       "  <tbody>\n",
       "    <tr>\n",
       "      <th>user_name</th>\n",
       "      <td>74436</td>\n",
       "      <td>44853</td>\n",
       "      <td>GlobalPandemic.NET</td>\n",
       "      <td>312</td>\n",
       "    </tr>\n",
       "    <tr>\n",
       "      <th>user_location</th>\n",
       "      <td>59218</td>\n",
       "      <td>14622</td>\n",
       "      <td>India</td>\n",
       "      <td>1496</td>\n",
       "    </tr>\n",
       "    <tr>\n",
       "      <th>date</th>\n",
       "      <td>74436</td>\n",
       "      <td>56546</td>\n",
       "      <td>2020-07-29 16:30:00</td>\n",
       "      <td>26</td>\n",
       "    </tr>\n",
       "    <tr>\n",
       "      <th>hashtags</th>\n",
       "      <td>53002</td>\n",
       "      <td>23445</td>\n",
       "      <td>['COVID19']</td>\n",
       "      <td>16004</td>\n",
       "    </tr>\n",
       "    <tr>\n",
       "      <th>source</th>\n",
       "      <td>74424</td>\n",
       "      <td>450</td>\n",
       "      <td>Twitter Web App</td>\n",
       "      <td>22974</td>\n",
       "    </tr>\n",
       "    <tr>\n",
       "      <th>text_clean</th>\n",
       "      <td>74436</td>\n",
       "      <td>74312</td>\n",
       "      <td>Greenland has no active cases of the novel cor...</td>\n",
       "      <td>6</td>\n",
       "    </tr>\n",
       "  </tbody>\n",
       "</table>\n",
       "</div>"
      ],
      "text/plain": [
       "               count unique  \\\n",
       "user_name      74436  44853   \n",
       "user_location  59218  14622   \n",
       "date           74436  56546   \n",
       "hashtags       53002  23445   \n",
       "source         74424    450   \n",
       "text_clean     74436  74312   \n",
       "\n",
       "                                                             top   freq  \n",
       "user_name                                     GlobalPandemic.NET    312  \n",
       "user_location                                              India   1496  \n",
       "date                                         2020-07-29 16:30:00     26  \n",
       "hashtags                                             ['COVID19']  16004  \n",
       "source                                           Twitter Web App  22974  \n",
       "text_clean     Greenland has no active cases of the novel cor...      6  "
      ]
     },
     "execution_count": 6,
     "metadata": {},
     "output_type": "execute_result"
    }
   ],
   "source": [
    "df.describe(include=np.object).transpose()"
   ]
  },
  {
   "cell_type": "code",
   "execution_count": 22,
   "metadata": {},
   "outputs": [
    {
     "name": "stdout",
     "output_type": "stream",
     "text": [
      "                 user_followers  user_friends  user_favourites\n",
      "user_followers         1.000000     -0.002722        -0.028724\n",
      "user_friends          -0.002722      1.000000         0.207825\n",
      "user_favourites       -0.028724      0.207825         1.000000\n"
     ]
    }
   ],
   "source": [
    "print(df.corr(method='pearson'))"
   ]
  },
  {
   "cell_type": "code",
   "execution_count": null,
   "metadata": {},
   "outputs": [],
   "source": [
    "sns.pairplot(df)\n",
    "plt.show()"
   ]
  },
  {
   "cell_type": "code",
   "execution_count": 21,
   "metadata": {},
   "outputs": [
    {
     "data": {
      "image/png": "[encoded data removed]",
      "text/plain": [
       "<Figure size 720x504 with 1 Axes>"
      ]
     },
     "metadata": {
      "needs_background": "light"
     },
     "output_type": "display_data"
    }
   ],
   "source": [
    "columna_1 = df[\"user_followers\"]\n",
    "myData = [columna_1]\n",
    "fig = plt.figure(figsize =(10, 7))\n",
    "ax = fig.add_axes([0, 0, 1, 1]) \n",
    "bp = ax.boxplot(myData) \n",
    "plt.title(\" Boxplot User Followers\") \n",
    "ax.set_xticklabels(['user_followers'])\n",
    "plt.show()"
   ]
  },
  {
   "cell_type": "code",
   "execution_count": 20,
   "metadata": {},
   "outputs": [
    {
     "data": {
      "image/png": "[encoded data removed]",
      "text/plain": [
       "<Figure size 720x504 with 1 Axes>"
      ]
     },
     "metadata": {
      "needs_background": "light"
     },
     "output_type": "display_data"
    }
   ],
   "source": [
    "columna_2 = df[\"user_friends\"]\n",
    "myData = [columna_2]\n",
    "fig = plt.figure(figsize =(10, 7))\n",
    "ax = fig.add_axes([0, 0, 1, 1]) \n",
    "bp = ax.boxplot(myData) \n",
    "plt.title(\" Boxplot User Friends\") \n",
    "ax.set_xticklabels(['user_friends'])\n",
    "plt.show()"
   ]
  },
  {
   "cell_type": "code",
   "execution_count": 19,
   "metadata": {},
   "outputs": [
    {
     "data": {
      "image/png": "[encoded data removed]",
      "text/plain": [
       "<Figure size 720x504 with 1 Axes>"
      ]
     },
     "metadata": {
      "needs_background": "light"
     },
     "output_type": "display_data"
    }
   ],
   "source": [
    "columna_3 = df[\"user_favourites\"]\n",
    "myData = [columna_3]\n",
    "fig = plt.figure(figsize =(10, 7))\n",
    "ax = fig.add_axes([0, 0, 1, 1]) \n",
    "bp = ax.boxplot(myData) \n",
    "plt.title(\" Boxplot User Favourites\") \n",
    "ax.set_xticklabels(['user_favourites'])\n",
    "plt.show()"
   ]
  },
  {
   "cell_type": "code",
   "execution_count": 18,
   "metadata": {},
   "outputs": [
    {
     "data": {
      "image/png": "[encoded data removed]",
      "text/plain": [
       "<Figure size 720x504 with 1 Axes>"
      ]
     },
     "metadata": {
      "needs_background": "light"
     },
     "output_type": "display_data"
    }
   ],
   "source": [
    "#Boxplot general\n",
    "columna_1 = df[\"user_followers\"]\n",
    "columna_2 = df[\"user_friends\"]\n",
    "columna_3 = df[\"user_favourites\"]\n",
    "myData = [columna_1,columna_2,columna_3]\n",
    "fig = plt.figure(figsize =(10, 7))\n",
    "ax = fig.add_axes([0, 0, 1, 1]) \n",
    "bp = ax.boxplot(myData) \n",
    "plt.title(\"User Statistics Boxplot\") \n",
    "ax.set_xticklabels(['user_followers', 'user_friends',  \n",
    "                    'user_favourites']) \n",
    "\n",
    "plt.show()"
   ]
  },
  {
   "cell_type": "code",
   "execution_count": 13,
   "metadata": {},
   "outputs": [
    {
     "data": {
      "image/png": "[encoded data removed]",
      "text/plain": [
       "<Figure size 432x288 with 1 Axes>"
      ]
     },
     "metadata": {
      "needs_background": "light"
     },
     "output_type": "display_data"
    }
   ],
   "source": [
    "#Histograma user_followers\n",
    "np.random.seed(10**7) \n",
    "mu = 121 \n",
    "sigma = 21\n",
    "x = mu + sigma * np.random.randn(1000) \n",
    "   \n",
    "num_bins = 100\n",
    "   \n",
    "n, bins, patches = plt.hist(df[\"user_followers\"], num_bins,  \n",
    "                            density = 1,  \n",
    "                            color ='purple', \n",
    "                            alpha = 0.7) \n",
    "   \n",
    "y = ((1 / (np.sqrt(2 * np.pi) * sigma)) *\n",
    "     np.exp(-0.5 * (1 / sigma * (bins - mu))**2)) \n",
    "  \n",
    "plt.plot(bins, y, '--', color ='black') \n",
    "  \n",
    "plt.xlabel('X-Axis') \n",
    "plt.ylabel('Y-Axis') \n",
    "  \n",
    "plt.title('User Followers', \n",
    "          fontweight =\"bold\") \n",
    "  \n",
    "plt.show() "
   ]
  },
  {
   "cell_type": "code",
   "execution_count": 14,
   "metadata": {},
   "outputs": [
    {
     "data": {
      "image/png": "[encoded data removed]",
      "text/plain": [
       "<Figure size 432x288 with 1 Axes>"
      ]
     },
     "metadata": {
      "needs_background": "light"
     },
     "output_type": "display_data"
    }
   ],
   "source": [
    "#Histograma user_friends\n",
    "np.random.seed(10**7) \n",
    "mu = 121 \n",
    "sigma = 21\n",
    "x = mu + sigma * np.random.randn(1000) \n",
    "   \n",
    "num_bins = 100\n",
    "   \n",
    "n, bins, patches = plt.hist(df[\"user_friends\"], num_bins,  \n",
    "                            density = 1,  \n",
    "                            color ='orange', \n",
    "                            alpha = 0.7) \n",
    "   \n",
    "y = ((1 / (np.sqrt(2 * np.pi) * sigma)) *\n",
    "     np.exp(-0.5 * (1 / sigma * (bins - mu))**2)) \n",
    "  \n",
    "plt.plot(bins, y, '--', color ='black') \n",
    "  \n",
    "plt.xlabel('X-Axis') \n",
    "plt.ylabel('Y-Axis') \n",
    "  \n",
    "plt.title('User Friends', \n",
    "          fontweight =\"bold\") \n",
    "  \n",
    "plt.show() "
   ]
  },
  {
   "cell_type": "code",
   "execution_count": 15,
   "metadata": {},
   "outputs": [
    {
     "data": {
      "image/png": "[encoded data removed]",
      "text/plain": [
       "<Figure size 432x288 with 1 Axes>"
      ]
     },
     "metadata": {
      "needs_background": "light"
     },
     "output_type": "display_data"
    }
   ],
   "source": [
    "#Histograma user_favourites\n",
    "np.random.seed(10**7) \n",
    "mu = 121 \n",
    "sigma = 21\n",
    "x = mu + sigma * np.random.randn(1000) \n",
    "   \n",
    "num_bins = 100\n",
    "   \n",
    "n, bins, patches = plt.hist(df[\"user_favourites\"], num_bins,  \n",
    "                            density = 1,  \n",
    "                            color ='green', \n",
    "                            alpha = 0.7) \n",
    "   \n",
    "y = ((1 / (np.sqrt(2 * np.pi) * sigma)) *\n",
    "     np.exp(-0.5 * (1 / sigma * (bins - mu))**2)) \n",
    "  \n",
    "plt.plot(bins, y, '--', color ='black') \n",
    "  \n",
    "plt.xlabel('X-Axis') \n",
    "plt.ylabel('Y-Axis') \n",
    "  \n",
    "plt.title('User Favourites', \n",
    "          fontweight =\"bold\") \n",
    "  \n",
    "plt.show() "
   ]
  },
  {
   "cell_type": "code",
   "execution_count": null,
   "metadata": {},
   "outputs": [],
   "source": []
  }
 ],
 "metadata": {
  "kernelspec": {
   "display_name": "Python 3",
   "language": "python",
   "name": "python3"
  },
  "language_info": {
   "codemirror_mode": {
    "name": "ipython",
    "version": 3
   },
   "file_extension": ".py",
   "mimetype": "text/x-python",
   "name": "python",
   "nbconvert_exporter": "python",
   "pygments_lexer": "ipython3",
   "version": "3.8.5"
  }
 },
 "nbformat": 4,
 "nbformat_minor": 4
}
